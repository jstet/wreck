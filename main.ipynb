{
 "cells": [
  {
   "cell_type": "code",
   "execution_count": 1,
   "id": "0f2d2263",
   "metadata": {},
   "outputs": [],
   "source": [
    "import polars as pl\n",
    "from shapely.geometry import Point, Polygon\n",
    "import matplotlib.pyplot as plt\n",
    "import requests\n",
    "from helpers import download_unzip"
   ]
  },
  {
   "cell_type": "markdown",
   "id": "41dd5a8c",
   "metadata": {},
   "source": [
    "## Loading the data"
   ]
  },
  {
   "cell_type": "code",
   "execution_count": null,
   "id": "8377fd47",
   "metadata": {},
   "outputs": [],
   "source": [
    "# See LICENSE.md\n",
    "url = \"https://datahub.admiralty.co.uk/portal/sharing/rest/content/items/60c0908526b844a68494c038a457e1a7/data\"\n",
    "txt_file = download_unzip(url, \"downloads/\")"
   ]
  },
  {
   "cell_type": "code",
   "execution_count": null,
   "id": "284bc770",
   "metadata": {},
   "outputs": [
    {
     "name": "stdout",
     "output_type": "stream",
     "text": [
      "100495\n",
      "Schema({'wreck_id': Int64, 'wreck_category': String, 'obstruction_category': String, 'status': String, 'classification': String, 'position': String, 'latitude': String, 'longitude': String, 'horizontal_datum': String, 'limits': String, 'position_method': String, 'depth': Float64, 'height': Float64, 'depth_method': String, 'depth_quality': String, 'depth_accuracy': Float64, 'water_depth': Int64, 'water_level_effect': String, 'vertical_datum': String, 'reported_year': String, 'name': String, 'type': String, 'flag': String, 'length': Float64, 'width': Float64, 'draught': Float64, 'sonar_length': Float64, 'sonar_width': Float64, 'shadow_height': Float64, 'orientation': Float64, 'tonnage': Int64, 'tonnage_type': String, 'cargo': String, 'conspic_visual': String, 'conspic_radar': String, 'date_sunk': String, 'non_sub_contact': Int64, 'bottom_texture': String, 'scour_dimensions': String, 'debris_field': String, 'original_sensor': String, 'last_sensor': String, 'original_detection_year': String, 'last_detection_year': String, 'original_source': String, 'markers': String, 'circumstances_of_loss': String, 'surveying_details': String, 'general_comments': String, 'last_amended_date': Int64})\n"
     ]
    },
    {
     "data": {
      "text/html": [
       "<div><style>\n",
       ".dataframe > thead > tr,\n",
       ".dataframe > tbody > tr {\n",
       "  text-align: right;\n",
       "  white-space: pre-wrap;\n",
       "}\n",
       "</style>\n",
       "<small>shape: (9, 51)</small><table border=\"1\" class=\"dataframe\"><thead><tr><th>statistic</th><th>wreck_id</th><th>wreck_category</th><th>obstruction_category</th><th>status</th><th>classification</th><th>position</th><th>latitude</th><th>longitude</th><th>horizontal_datum</th><th>limits</th><th>position_method</th><th>depth</th><th>height</th><th>depth_method</th><th>depth_quality</th><th>depth_accuracy</th><th>water_depth</th><th>water_level_effect</th><th>vertical_datum</th><th>reported_year</th><th>name</th><th>type</th><th>flag</th><th>length</th><th>width</th><th>draught</th><th>sonar_length</th><th>sonar_width</th><th>shadow_height</th><th>orientation</th><th>tonnage</th><th>tonnage_type</th><th>cargo</th><th>conspic_visual</th><th>conspic_radar</th><th>date_sunk</th><th>non_sub_contact</th><th>bottom_texture</th><th>scour_dimensions</th><th>debris_field</th><th>original_sensor</th><th>last_sensor</th><th>original_detection_year</th><th>last_detection_year</th><th>original_source</th><th>markers</th><th>circumstances_of_loss</th><th>surveying_details</th><th>general_comments</th><th>last_amended_date</th></tr><tr><td>str</td><td>f64</td><td>str</td><td>str</td><td>str</td><td>str</td><td>str</td><td>str</td><td>str</td><td>str</td><td>str</td><td>str</td><td>f64</td><td>f64</td><td>str</td><td>str</td><td>f64</td><td>f64</td><td>str</td><td>str</td><td>str</td><td>str</td><td>str</td><td>str</td><td>f64</td><td>f64</td><td>f64</td><td>f64</td><td>f64</td><td>f64</td><td>f64</td><td>f64</td><td>str</td><td>str</td><td>str</td><td>str</td><td>str</td><td>f64</td><td>str</td><td>str</td><td>str</td><td>str</td><td>str</td><td>str</td><td>str</td><td>str</td><td>str</td><td>str</td><td>str</td><td>str</td><td>f64</td></tr></thead><tbody><tr><td>&quot;count&quot;</td><td>100495.0</td><td>&quot;67504&quot;</td><td>&quot;16151&quot;</td><td>&quot;35653&quot;</td><td>&quot;0&quot;</td><td>&quot;100495&quot;</td><td>&quot;100495&quot;</td><td>&quot;100495&quot;</td><td>&quot;100495&quot;</td><td>&quot;1450&quot;</td><td>&quot;24680&quot;</td><td>39549.0</td><td>162.0</td><td>&quot;17615&quot;</td><td>&quot;100397&quot;</td><td>131.0</td><td>100427.0</td><td>&quot;100247&quot;</td><td>&quot;99187&quot;</td><td>&quot;0&quot;</td><td>&quot;28134&quot;</td><td>&quot;37626&quot;</td><td>&quot;20417&quot;</td><td>14845.0</td><td>12471.0</td><td>10880.0</td><td>13536.0</td><td>12228.0</td><td>13341.0</td><td>13707.0</td><td>17602.0</td><td>&quot;16818&quot;</td><td>&quot;9361&quot;</td><td>&quot;99145&quot;</td><td>&quot;99129&quot;</td><td>&quot;21500&quot;</td><td>1230.0</td><td>&quot;22181&quot;</td><td>&quot;4270&quot;</td><td>&quot;561&quot;</td><td>&quot;100408&quot;</td><td>&quot;76473&quot;</td><td>&quot;100441&quot;</td><td>&quot;76442&quot;</td><td>&quot;100410&quot;</td><td>&quot;2691&quot;</td><td>&quot;89241&quot;</td><td>&quot;89252&quot;</td><td>&quot;19923&quot;</td><td>100328.0</td></tr><tr><td>&quot;null_count&quot;</td><td>0.0</td><td>&quot;32991&quot;</td><td>&quot;84344&quot;</td><td>&quot;64842&quot;</td><td>&quot;100495&quot;</td><td>&quot;0&quot;</td><td>&quot;0&quot;</td><td>&quot;0&quot;</td><td>&quot;0&quot;</td><td>&quot;99045&quot;</td><td>&quot;75815&quot;</td><td>60946.0</td><td>100333.0</td><td>&quot;82880&quot;</td><td>&quot;98&quot;</td><td>100364.0</td><td>68.0</td><td>&quot;248&quot;</td><td>&quot;1308&quot;</td><td>&quot;100495&quot;</td><td>&quot;72361&quot;</td><td>&quot;62869&quot;</td><td>&quot;80078&quot;</td><td>85650.0</td><td>88024.0</td><td>89615.0</td><td>86959.0</td><td>88267.0</td><td>87154.0</td><td>86788.0</td><td>82893.0</td><td>&quot;83677&quot;</td><td>&quot;91134&quot;</td><td>&quot;1350&quot;</td><td>&quot;1366&quot;</td><td>&quot;78995&quot;</td><td>99265.0</td><td>&quot;78314&quot;</td><td>&quot;96225&quot;</td><td>&quot;99934&quot;</td><td>&quot;87&quot;</td><td>&quot;24022&quot;</td><td>&quot;54&quot;</td><td>&quot;24053&quot;</td><td>&quot;85&quot;</td><td>&quot;97804&quot;</td><td>&quot;11254&quot;</td><td>&quot;11243&quot;</td><td>&quot;80572&quot;</td><td>167.0</td></tr><tr><td>&quot;mean&quot;</td><td>50832.029504</td><td>null</td><td>null</td><td>null</td><td>null</td><td>null</td><td>null</td><td>null</td><td>null</td><td>null</td><td>null</td><td>29.250057</td><td>4.021111</td><td>null</td><td>null</td><td>1.059542</td><td>110.116393</td><td>null</td><td>null</td><td>null</td><td>null</td><td>null</td><td>null</td><td>74.559933</td><td>12.29899</td><td>6.018539</td><td>96083.48905</td><td>12.01091</td><td>4.053674</td><td>103.479861</td><td>2918.340245</td><td>null</td><td>null</td><td>null</td><td>null</td><td>null</td><td>1.0</td><td>null</td><td>null</td><td>null</td><td>null</td><td>null</td><td>null</td><td>null</td><td>null</td><td>null</td><td>null</td><td>null</td><td>null</td><td>2.0128e7</td></tr><tr><td>&quot;std&quot;</td><td>29577.854028</td><td>null</td><td>null</td><td>null</td><td>null</td><td>null</td><td>null</td><td>null</td><td>null</td><td>null</td><td>null</td><td>57.541481</td><td>4.99839</td><td>null</td><td>null</td><td>1.001904</td><td>478.964464</td><td>null</td><td>null</td><td>null</td><td>null</td><td>null</td><td>null</td><td>48.60775</td><td>6.463541</td><td>3.925245</td><td>1.1174e7</td><td>13.077841</td><td>5.024552</td><td>78.37569</td><td>8616.94359</td><td>null</td><td>null</td><td>null</td><td>null</td><td>null</td><td>0.0</td><td>null</td><td>null</td><td>null</td><td>null</td><td>null</td><td>null</td><td>null</td><td>null</td><td>null</td><td>null</td><td>null</td><td>null</td><td>90179.982321</td></tr><tr><td>&quot;min&quot;</td><td>1.0</td><td>&quot;dangerous wreck&quot;</td><td>&quot;Anchor&quot;</td><td>&quot;Live&quot;</td><td>null</td><td>&quot;0 0 N,145 0 E&quot;</td><td>&quot;0 0 N&quot;</td><td>&quot;0 0 E&quot;</td><td>&quot;WGD 2&quot;</td><td>&quot;2,2 101.3235798,3.103159 101.3…</td><td>&quot;Air photography&quot;</td><td>-21.0</td><td>0.1</td><td>&quot;UNKNOWN&quot;</td><td>&quot;UNKNOWN&quot;</td><td>0.1</td><td>-10.0</td><td>&quot;Always under water/submerged&quot;</td><td>&quot;Approximate Lowest Astronomica…</td><td>null</td><td>&quot;&quot;t&quot; Vliegent Hart&quot;</td><td>&quot;Anchor&quot;</td><td>&quot;?ANTIGUAN&quot;</td><td>0.9</td><td>0.5</td><td>0.3</td><td>0.0</td><td>0.0</td><td>-11.66</td><td>0.0</td><td>1.0</td><td>&quot;builders&#x27; measurement&quot;</td><td>&quot;aircraft&quot;</td><td>&quot;not visually conspicuous&quot;</td><td>&quot;not radar conspicuous&quot;</td><td>&quot;14390107&quot;</td><td>1.0</td><td>&quot;1,17&quot;</td><td>&quot; 0078.0,,003.0,135&quot;</td><td>&quot;0002.4,180&quot;</td><td>&quot;LIDAR&quot;</td><td>&quot;LIDAR&quot;</td><td>&quot;0.89&quot;</td><td>&quot;11/06/2022&quot;</td><td>&quot;Lloyd&#x27;s and Marine Underwriter…</td><td>&quot;&quot;253B&quot; G CONL LT BUOY, FL.G&quot;</td><td>&quot; &quot;</td><td>&quot; &quot;</td><td>&quot; &quot;</td><td>1.9240328e7</td></tr><tr><td>&quot;25%&quot;</td><td>25244.0</td><td>null</td><td>null</td><td>null</td><td>null</td><td>null</td><td>null</td><td>null</td><td>null</td><td>null</td><td>null</td><td>7.17</td><td>1.12</td><td>null</td><td>null</td><td>0.3</td><td>6.0</td><td>null</td><td>null</td><td>null</td><td>null</td><td>null</td><td>null</td><td>37.5</td><td>8.2</td><td>3.7</td><td>13.09</td><td>5.0</td><td>1.36</td><td>45.0</td><td>283.0</td><td>null</td><td>null</td><td>null</td><td>null</td><td>null</td><td>1.0</td><td>null</td><td>null</td><td>null</td><td>null</td><td>null</td><td>null</td><td>null</td><td>null</td><td>null</td><td>null</td><td>null</td><td>null</td><td>2.0070619e7</td></tr><tr><td>&quot;50%&quot;</td><td>50615.0</td><td>null</td><td>null</td><td>null</td><td>null</td><td>null</td><td>null</td><td>null</td><td>null</td><td>null</td><td>null</td><td>16.2</td><td>2.11</td><td>null</td><td>null</td><td>1.0</td><td>18.0</td><td>null</td><td>null</td><td>null</td><td>null</td><td>null</td><td>null</td><td>69.8</td><td>11.3</td><td>5.4</td><td>32.4</td><td>9.0</td><td>3.0</td><td>90.0</td><td>1056.0</td><td>null</td><td>null</td><td>null</td><td>null</td><td>null</td><td>1.0</td><td>null</td><td>null</td><td>null</td><td>null</td><td>null</td><td>null</td><td>null</td><td>null</td><td>null</td><td>null</td><td>null</td><td>null</td><td>2.0151007e7</td></tr><tr><td>&quot;75%&quot;</td><td>76105.0</td><td>null</td><td>null</td><td>null</td><td>null</td><td>null</td><td>null</td><td>null</td><td>null</td><td>null</td><td>null</td><td>35.0</td><td>5.0</td><td>null</td><td>null</td><td>1.5</td><td>49.0</td><td>null</td><td>null</td><td>null</td><td>null</td><td>null</td><td>null</td><td>102.1</td><td>15.3</td><td>7.6</td><td>65.0</td><td>15.2</td><td>5.6</td><td>142.0</td><td>3127.0</td><td>null</td><td>null</td><td>null</td><td>null</td><td>null</td><td>1.0</td><td>null</td><td>null</td><td>null</td><td>null</td><td>null</td><td>null</td><td>null</td><td>null</td><td>null</td><td>null</td><td>null</td><td>null</td><td>2.0200327e7</td></tr><tr><td>&quot;max&quot;</td><td>103722.0</td><td>&quot;wreck showing mast/masts&quot;</td><td>&quot;storage tank&quot;</td><td>&quot;temporary&quot;</td><td>null</td><td>&quot;9 9.917 N,107 0.667 E&quot;</td><td>&quot;9 9.917 N&quot;</td><td>&quot;99 9.567 E&quot;</td><td>&quot;WGD 2&quot;</td><td>&quot;8,326 -4.6476927,53.3186216 -4…</td><td>&quot;Two-range Lambda&quot;</td><td>4513.0</td><td>47.0</td><td>&quot;swept by wire-drag, swept by v…</td><td>&quot;value reported (not surveyed),…</td><td>5.0</td><td>7100.0</td><td>&quot;partly submerged at high water&quot;</td><td>&quot;Other&quot;</td><td>null</td><td>&quot;ÐN-0941&quot;</td><td>&quot;yacht&quot;</td><td>&quot;ZA&quot;</td><td>821.5</td><td>120.1</td><td>118.0</td><td>1.3000e9</td><td>360.0</td><td>308.0</td><td>359.0</td><td>600000.0</td><td>&quot;net&quot;</td><td>&quot;wood: unprocessed and products…</td><td>&quot;visually conspicuous&quot;</td><td>&quot;radar conspicuous (has radar r…</td><td>&quot;UNKNOWN&quot;</td><td>1.0</td><td>&quot;UNKNOWN&quot;</td><td>&quot;n/a&quot;</td><td>&quot;yes&quot;</td><td>&quot;water column&quot;</td><td>&quot;water column&quot;</td><td>&quot;Unknown&quot;</td><td>&quot;UNKNOWN&quot;</td><td>&quot;yacht&quot;</td><td>&quot;unlit, orange spherical buoy&quot;</td><td>&quot;&nbsp;&nbsp;&nbsp;n/a&nbsp;&nbsp;&nbsp;11.7.18&nbsp;&nbsp;&nbsp;ONE STEEL B…</td><td>&quot;SEP 2013/000119138&nbsp;&nbsp;&nbsp;&nbsp;&nbsp;&nbsp;&nbsp;&nbsp;&nbsp;&nbsp;&nbsp;&nbsp;…</td><td>&quot;wreck with debris field&quot;</td><td>2.0240704e7</td></tr></tbody></table></div>"
      ],
      "text/plain": [
       "shape: (9, 51)\n",
       "┌───────────┬───────────┬───────────┬───────────┬───┬───────────┬───────────┬───────────┬──────────┐\n",
       "│ statistic ┆ wreck_id  ┆ wreck_cat ┆ obstructi ┆ … ┆ circumsta ┆ surveying ┆ general_c ┆ last_ame │\n",
       "│ ---       ┆ ---       ┆ egory     ┆ on_catego ┆   ┆ nces_of_l ┆ _details  ┆ omments   ┆ nded_dat │\n",
       "│ str       ┆ f64       ┆ ---       ┆ ry        ┆   ┆ oss       ┆ ---       ┆ ---       ┆ e        │\n",
       "│           ┆           ┆ str       ┆ ---       ┆   ┆ ---       ┆ str       ┆ str       ┆ ---      │\n",
       "│           ┆           ┆           ┆ str       ┆   ┆ str       ┆           ┆           ┆ f64      │\n",
       "╞═══════════╪═══════════╪═══════════╪═══════════╪═══╪═══════════╪═══════════╪═══════════╪══════════╡\n",
       "│ count     ┆ 100495.0  ┆ 67504     ┆ 16151     ┆ … ┆ 89241     ┆ 89252     ┆ 19923     ┆ 100328.0 │\n",
       "│ null_coun ┆ 0.0       ┆ 32991     ┆ 84344     ┆ … ┆ 11254     ┆ 11243     ┆ 80572     ┆ 167.0    │\n",
       "│ t         ┆           ┆           ┆           ┆   ┆           ┆           ┆           ┆          │\n",
       "│ mean      ┆ 50832.029 ┆ null      ┆ null      ┆ … ┆ null      ┆ null      ┆ null      ┆ 2.0128e7 │\n",
       "│           ┆ 504       ┆           ┆           ┆   ┆           ┆           ┆           ┆          │\n",
       "│ std       ┆ 29577.854 ┆ null      ┆ null      ┆ … ┆ null      ┆ null      ┆ null      ┆ 90179.98 │\n",
       "│           ┆ 028       ┆           ┆           ┆   ┆           ┆           ┆           ┆ 2321     │\n",
       "│ min       ┆ 1.0       ┆ dangerous ┆ Anchor    ┆ … ┆           ┆           ┆           ┆ 1.924032 │\n",
       "│           ┆           ┆ wreck     ┆           ┆   ┆           ┆           ┆           ┆ 8e7      │\n",
       "│ 25%       ┆ 25244.0   ┆ null      ┆ null      ┆ … ┆ null      ┆ null      ┆ null      ┆ 2.007061 │\n",
       "│           ┆           ┆           ┆           ┆   ┆           ┆           ┆           ┆ 9e7      │\n",
       "│ 50%       ┆ 50615.0   ┆ null      ┆ null      ┆ … ┆ null      ┆ null      ┆ null      ┆ 2.015100 │\n",
       "│           ┆           ┆           ┆           ┆   ┆           ┆           ┆           ┆ 7e7      │\n",
       "│ 75%       ┆ 76105.0   ┆ null      ┆ null      ┆ … ┆ null      ┆ null      ┆ null      ┆ 2.020032 │\n",
       "│           ┆           ┆           ┆           ┆   ┆           ┆           ┆           ┆ 7e7      │\n",
       "│ max       ┆ 103722.0  ┆ wreck     ┆ storage   ┆ … ┆ n/a       ┆ SEP 2013/ ┆ wreck     ┆ 2.024070 │\n",
       "│           ┆           ┆ showing   ┆ tank      ┆   ┆ 11.7.18   ┆ 000119138 ┆ with      ┆ 4e7      │\n",
       "│           ┆           ┆ mast/mast ┆           ┆   ┆ ONE STEEL ┆ …         ┆ debris    ┆          │\n",
       "│           ┆           ┆ s         ┆           ┆   ┆ B…        ┆           ┆ field     ┆          │\n",
       "└───────────┴───────────┴───────────┴───────────┴───┴───────────┴───────────┴───────────┴──────────┘"
      ]
     },
     "execution_count": 3,
     "metadata": {},
     "output_type": "execute_result"
    }
   ],
   "source": [
    "df = pl.read_csv(\n",
    "    txt_file, separator='\\t', quote_char='\"', encoding='latin1', infer_schema_length=10000000,  null_values=[\"\"] )\n",
    "print(len(df))\n",
    "print(df.schema)\n",
    "df.describe()"
   ]
  },
  {
   "cell_type": "markdown",
   "id": "c8363df6",
   "metadata": {},
   "source": [
    "### Process string columnns"
   ]
  },
  {
   "cell_type": "code",
   "execution_count": 4,
   "id": "700d0e7d",
   "metadata": {},
   "outputs": [],
   "source": [
    "for col in [\"general_comments\", \"surveying_details\", \"circumstances_of_loss\"]:\n",
    "    df = df.with_columns(pl.col(col).str.strip_chars().replace(\"\", None))"
   ]
  },
  {
   "cell_type": "markdown",
   "id": "945b444d",
   "metadata": {},
   "source": [
    "### Process dates"
   ]
  },
  {
   "cell_type": "code",
   "execution_count": 5,
   "id": "1fcee754",
   "metadata": {},
   "outputs": [],
   "source": [
    "cols = [\"date_sunk\", \"original_detection_year\"]\n",
    "\n",
    "exprs = []\n",
    "for col in cols:\n",
    "    out = col if col.endswith(\"year\") else f\"{col}_year\"\n",
    "\n",
    "    cleaned = (\n",
    "        pl.col(col)\n",
    "        .str.replace(r\"\\D+\", \"\", literal=False)\n",
    "        .str.replace(r\"^0+\", \"\", literal=False)\n",
    "        .str.slice(0, 4)\n",
    "        .cast(pl.Int64, strict=False)\n",
    "    )\n",
    "    if col == \"original_detection_year\":\n",
    "        capped = (\n",
    "            pl.when((cleaned > 2025) | (cleaned < 1800))\n",
    "            .then(None)\n",
    "            .otherwise(cleaned)\n",
    "            .alias(out)\n",
    "        )\n",
    "    else:\n",
    "        capped = (\n",
    "            pl.when(cleaned > 2025)\n",
    "            .then(None)\n",
    "            .otherwise(cleaned)\n",
    "            .alias(out)\n",
    "        ) \n",
    "        \n",
    "    exprs.append(capped)\n",
    "    df = df.filter(pl.col(col).is_not_null())\n",
    "df = df.with_columns(exprs)\n"
   ]
  },
  {
   "cell_type": "markdown",
   "id": "61a2f1d9",
   "metadata": {},
   "source": [
    "### Process distance columns"
   ]
  },
  {
   "cell_type": "code",
   "execution_count": 6,
   "id": "755dd9ce",
   "metadata": {},
   "outputs": [],
   "source": [
    "cols = [\"water_depth\",\"depth\"]\n",
    "\n",
    "\n",
    "for col in cols:\n",
    "    df = df.with_columns((pl.col(col)/3.28084).alias(col))\n",
    "\n",
    "df = df.filter(pl.col('water_depth') >= 0)"
   ]
  },
  {
   "cell_type": "code",
   "execution_count": 7,
   "id": "41bc87d5",
   "metadata": {},
   "outputs": [
    {
     "data": {
      "text/html": [
       "<div><style>\n",
       ".dataframe > thead > tr,\n",
       ".dataframe > tbody > tr {\n",
       "  text-align: right;\n",
       "  white-space: pre-wrap;\n",
       "}\n",
       "</style>\n",
       "<small>shape: (6, 2)</small><table border=\"1\" class=\"dataframe\"><thead><tr><th>wreck_category</th><th>count</th></tr><tr><td>str</td><td>u32</td></tr></thead><tbody><tr><td>&quot;non-dangerous wreck&quot;</td><td>9746</td></tr><tr><td>&quot;dangerous wreck&quot;</td><td>7901</td></tr><tr><td>&quot;wreck showing any portion of h…</td><td>2151</td></tr><tr><td>null</td><td>1041</td></tr><tr><td>&quot;distributed remains of wreck&quot;</td><td>197</td></tr><tr><td>&quot;wreck showing mast/masts&quot;</td><td>108</td></tr></tbody></table></div>"
      ],
      "text/plain": [
       "shape: (6, 2)\n",
       "┌─────────────────────────────────┬───────┐\n",
       "│ wreck_category                  ┆ count │\n",
       "│ ---                             ┆ ---   │\n",
       "│ str                             ┆ u32   │\n",
       "╞═════════════════════════════════╪═══════╡\n",
       "│ non-dangerous wreck             ┆ 9746  │\n",
       "│ dangerous wreck                 ┆ 7901  │\n",
       "│ wreck showing any portion of h… ┆ 2151  │\n",
       "│ null                            ┆ 1041  │\n",
       "│ distributed remains of wreck    ┆ 197   │\n",
       "│ wreck showing mast/masts        ┆ 108   │\n",
       "└─────────────────────────────────┴───────┘"
      ]
     },
     "execution_count": 7,
     "metadata": {},
     "output_type": "execute_result"
    }
   ],
   "source": [
    "df[\"wreck_category\"].value_counts(sort=True)"
   ]
  },
  {
   "cell_type": "code",
   "execution_count": 8,
   "id": "c487dfa8",
   "metadata": {},
   "outputs": [
    {
     "data": {
      "text/html": [
       "<div><style>\n",
       ".dataframe > thead > tr,\n",
       ".dataframe > tbody > tr {\n",
       "  text-align: right;\n",
       "  white-space: pre-wrap;\n",
       "}\n",
       "</style>\n",
       "<small>shape: (9, 2)</small><table border=\"1\" class=\"dataframe\"><thead><tr><th>status</th><th>count</th></tr><tr><td>str</td><td>u32</td></tr></thead><tbody><tr><td>null</td><td>14229</td></tr><tr><td>&quot;dead&quot;</td><td>5567</td></tr><tr><td>&quot;lifted&quot;</td><td>1051</td></tr><tr><td>&quot;historic&quot;</td><td>182</td></tr><tr><td>&quot;Not Fully Surveyed&quot;</td><td>53</td></tr><tr><td>&quot;Not Fully Surveyed, existence …</td><td>36</td></tr><tr><td>&quot;existence doubtful&quot;</td><td>20</td></tr><tr><td>&quot;historic, Not Fully Surveyed&quot;</td><td>3</td></tr><tr><td>&quot;Live&quot;</td><td>3</td></tr></tbody></table></div>"
      ],
      "text/plain": [
       "shape: (9, 2)\n",
       "┌─────────────────────────────────┬───────┐\n",
       "│ status                          ┆ count │\n",
       "│ ---                             ┆ ---   │\n",
       "│ str                             ┆ u32   │\n",
       "╞═════════════════════════════════╪═══════╡\n",
       "│ null                            ┆ 14229 │\n",
       "│ dead                            ┆ 5567  │\n",
       "│ lifted                          ┆ 1051  │\n",
       "│ historic                        ┆ 182   │\n",
       "│ Not Fully Surveyed              ┆ 53    │\n",
       "│ Not Fully Surveyed, existence … ┆ 36    │\n",
       "│ existence doubtful              ┆ 20    │\n",
       "│ historic, Not Fully Surveyed    ┆ 3     │\n",
       "│ Live                            ┆ 3     │\n",
       "└─────────────────────────────────┴───────┘"
      ]
     },
     "execution_count": 8,
     "metadata": {},
     "output_type": "execute_result"
    }
   ],
   "source": [
    "df[\"status\"].value_counts(sort=True)"
   ]
  },
  {
   "cell_type": "code",
   "execution_count": 9,
   "id": "6afb92a2",
   "metadata": {},
   "outputs": [
    {
     "data": {
      "text/html": [
       "<div><style>\n",
       ".dataframe > thead > tr,\n",
       ".dataframe > tbody > tr {\n",
       "  text-align: right;\n",
       "  white-space: pre-wrap;\n",
       "}\n",
       "</style>\n",
       "<small>shape: (9, 2)</small><table border=\"1\" class=\"dataframe\"><thead><tr><th>statistic</th><th>value</th></tr><tr><td>str</td><td>f64</td></tr></thead><tbody><tr><td>&quot;count&quot;</td><td>21144.0</td></tr><tr><td>&quot;null_count&quot;</td><td>0.0</td></tr><tr><td>&quot;mean&quot;</td><td>95.461976</td></tr><tr><td>&quot;std&quot;</td><td>273.591484</td></tr><tr><td>&quot;min&quot;</td><td>0.0</td></tr><tr><td>&quot;25%&quot;</td><td>3.048</td></tr><tr><td>&quot;50%&quot;</td><td>9.144</td></tr><tr><td>&quot;75%&quot;</td><td>23.469599</td></tr><tr><td>&quot;max&quot;</td><td>2164.079931</td></tr></tbody></table></div>"
      ],
      "text/plain": [
       "shape: (9, 2)\n",
       "┌────────────┬─────────────┐\n",
       "│ statistic  ┆ value       │\n",
       "│ ---        ┆ ---         │\n",
       "│ str        ┆ f64         │\n",
       "╞════════════╪═════════════╡\n",
       "│ count      ┆ 21144.0     │\n",
       "│ null_count ┆ 0.0         │\n",
       "│ mean       ┆ 95.461976   │\n",
       "│ std        ┆ 273.591484  │\n",
       "│ min        ┆ 0.0         │\n",
       "│ 25%        ┆ 3.048       │\n",
       "│ 50%        ┆ 9.144       │\n",
       "│ 75%        ┆ 23.469599   │\n",
       "│ max        ┆ 2164.079931 │\n",
       "└────────────┴─────────────┘"
      ]
     },
     "execution_count": 9,
     "metadata": {},
     "output_type": "execute_result"
    }
   ],
   "source": [
    "df[\"water_depth\"].describe()"
   ]
  },
  {
   "cell_type": "code",
   "execution_count": 10,
   "id": "4fa68a95",
   "metadata": {},
   "outputs": [
    {
     "data": {
      "text/html": [
       "<div><style>\n",
       ".dataframe > thead > tr,\n",
       ".dataframe > tbody > tr {\n",
       "  text-align: right;\n",
       "  white-space: pre-wrap;\n",
       "}\n",
       "</style>\n",
       "<small>shape: (24, 2)</small><table border=\"1\" class=\"dataframe\"><thead><tr><th>original_source</th><th>count</th></tr><tr><td>str</td><td>u32</td></tr></thead><tbody><tr><td>&quot;Lloyd&#x27;s and Marine Underwriter…</td><td>6715</td></tr><tr><td>&quot;other&quot;</td><td>4029</td></tr><tr><td>&quot;national HO/authority notice t…</td><td>2134</td></tr><tr><td>&quot;national coast guard or patrol&quot;</td><td>1163</td></tr><tr><td>&quot;national HO/authority wreck in…</td><td>1013</td></tr><tr><td>&hellip;</td><td>&hellip;</td></tr><tr><td>&quot;aerial photography or satellit…</td><td>14</td></tr><tr><td>&quot;owner/operator&quot;</td><td>9</td></tr><tr><td>&quot;national HO/authority files&quot;</td><td>6</td></tr><tr><td>null</td><td>2</td></tr><tr><td>&quot;yacht&quot;</td><td>2</td></tr></tbody></table></div>"
      ],
      "text/plain": [
       "shape: (24, 2)\n",
       "┌─────────────────────────────────┬───────┐\n",
       "│ original_source                 ┆ count │\n",
       "│ ---                             ┆ ---   │\n",
       "│ str                             ┆ u32   │\n",
       "╞═════════════════════════════════╪═══════╡\n",
       "│ Lloyd's and Marine Underwriter… ┆ 6715  │\n",
       "│ other                           ┆ 4029  │\n",
       "│ national HO/authority notice t… ┆ 2134  │\n",
       "│ national coast guard or patrol  ┆ 1163  │\n",
       "│ national HO/authority wreck in… ┆ 1013  │\n",
       "│ …                               ┆ …     │\n",
       "│ aerial photography or satellit… ┆ 14    │\n",
       "│ owner/operator                  ┆ 9     │\n",
       "│ national HO/authority files     ┆ 6     │\n",
       "│ null                            ┆ 2     │\n",
       "│ yacht                           ┆ 2     │\n",
       "└─────────────────────────────────┴───────┘"
      ]
     },
     "execution_count": 10,
     "metadata": {},
     "output_type": "execute_result"
    }
   ],
   "source": [
    "df[\"original_source\"].value_counts(sort=True)"
   ]
  },
  {
   "cell_type": "code",
   "execution_count": 11,
   "id": "84ec0dcd",
   "metadata": {},
   "outputs": [
    {
     "data": {
      "text/html": [
       "<div><style>\n",
       ".dataframe > thead > tr,\n",
       ".dataframe > tbody > tr {\n",
       "  text-align: right;\n",
       "  white-space: pre-wrap;\n",
       "}\n",
       "</style>\n",
       "<small>shape: (283, 2)</small><table border=\"1\" class=\"dataframe\"><thead><tr><th>date_sunk_year</th><th>count</th></tr><tr><td>i64</td><td>u32</td></tr></thead><tbody><tr><td>1917</td><td>1448</td></tr><tr><td>1940</td><td>1232</td></tr><tr><td>1918</td><td>1062</td></tr><tr><td>1941</td><td>680</td></tr><tr><td>1916</td><td>563</td></tr><tr><td>&hellip;</td><td>&hellip;</td></tr><tr><td>1706</td><td>1</td></tr><tr><td>1781</td><td>1</td></tr><tr><td>1746</td><td>1</td></tr><tr><td>1848</td><td>1</td></tr><tr><td>1613</td><td>1</td></tr></tbody></table></div>"
      ],
      "text/plain": [
       "shape: (283, 2)\n",
       "┌────────────────┬───────┐\n",
       "│ date_sunk_year ┆ count │\n",
       "│ ---            ┆ ---   │\n",
       "│ i64            ┆ u32   │\n",
       "╞════════════════╪═══════╡\n",
       "│ 1917           ┆ 1448  │\n",
       "│ 1940           ┆ 1232  │\n",
       "│ 1918           ┆ 1062  │\n",
       "│ 1941           ┆ 680   │\n",
       "│ 1916           ┆ 563   │\n",
       "│ …              ┆ …     │\n",
       "│ 1706           ┆ 1     │\n",
       "│ 1781           ┆ 1     │\n",
       "│ 1746           ┆ 1     │\n",
       "│ 1848           ┆ 1     │\n",
       "│ 1613           ┆ 1     │\n",
       "└────────────────┴───────┘"
      ]
     },
     "execution_count": 11,
     "metadata": {},
     "output_type": "execute_result"
    }
   ],
   "source": [
    "df[\"date_sunk_year\"].value_counts(sort=True)"
   ]
  },
  {
   "cell_type": "code",
   "execution_count": 12,
   "id": "b1977480",
   "metadata": {},
   "outputs": [
    {
     "data": {
      "text/html": [
       "<div><style>\n",
       ".dataframe > thead > tr,\n",
       ".dataframe > tbody > tr {\n",
       "  text-align: right;\n",
       "  white-space: pre-wrap;\n",
       "}\n",
       "</style>\n",
       "<small>shape: (204, 2)</small><table border=\"1\" class=\"dataframe\"><thead><tr><th>original_detection_year</th><th>count</th></tr><tr><td>i64</td><td>u32</td></tr></thead><tbody><tr><td>1917</td><td>1058</td></tr><tr><td>1940</td><td>1048</td></tr><tr><td>1918</td><td>943</td></tr><tr><td>1941</td><td>601</td></tr><tr><td>1976</td><td>581</td></tr><tr><td>&hellip;</td><td>&hellip;</td></tr><tr><td>1836</td><td>1</td></tr><tr><td>1810</td><td>1</td></tr><tr><td>1862</td><td>1</td></tr><tr><td>1830</td><td>1</td></tr><tr><td>1832</td><td>1</td></tr></tbody></table></div>"
      ],
      "text/plain": [
       "shape: (204, 2)\n",
       "┌─────────────────────────┬───────┐\n",
       "│ original_detection_year ┆ count │\n",
       "│ ---                     ┆ ---   │\n",
       "│ i64                     ┆ u32   │\n",
       "╞═════════════════════════╪═══════╡\n",
       "│ 1917                    ┆ 1058  │\n",
       "│ 1940                    ┆ 1048  │\n",
       "│ 1918                    ┆ 943   │\n",
       "│ 1941                    ┆ 601   │\n",
       "│ 1976                    ┆ 581   │\n",
       "│ …                       ┆ …     │\n",
       "│ 1836                    ┆ 1     │\n",
       "│ 1810                    ┆ 1     │\n",
       "│ 1862                    ┆ 1     │\n",
       "│ 1830                    ┆ 1     │\n",
       "│ 1832                    ┆ 1     │\n",
       "└─────────────────────────┴───────┘"
      ]
     },
     "execution_count": 12,
     "metadata": {},
     "output_type": "execute_result"
    }
   ],
   "source": [
    "df[\"original_detection_year\"].value_counts(sort=True)"
   ]
  },
  {
   "cell_type": "code",
   "execution_count": 13,
   "id": "edcc862e",
   "metadata": {},
   "outputs": [
    {
     "data": {
      "text/plain": [
       "['INTACT',\n",
       " 'INTACT, UPRIGHT, BOWS W',\n",
       " 'INTER-ISLAND VESSEL',\n",
       " 'WOODEN HULL',\n",
       " 'IRON HULL',\n",
       " 'See Also: 23986',\n",
       " 'See Also: 60259',\n",
       " 'WELL BROKEN UP',\n",
       " 'INTACT, COLLAPSED',\n",
       " 'INTACT, ON STBD SIDE, BOWS NW, SOME NETS ON WK']"
      ]
     },
     "execution_count": 13,
     "metadata": {},
     "output_type": "execute_result"
    }
   ],
   "source": [
    "df.filter(pl.col(\"general_comments\").is_not_null()).select(\"general_comments\").sample(10).to_series().to_list()"
   ]
  },
  {
   "cell_type": "code",
   "execution_count": 14,
   "id": "9719030e",
   "metadata": {},
   "outputs": [
    {
     "data": {
      "text/plain": [
       "['H4169/87   14.11.90   SCUTTLED SW (?SE) OF ARENDAL ON 31.12.46. (F LAURIN, 18.10.90). NCA.        29.10.98   POSN GIVEN AS 581331.5N, 094105.7E. (IHB LTR DTD 22.9.98). AMENDED TO DEAD. DETAILS TRANSFERRED TO [33757].',\n",
       " 'SEE WRECK 0014 00186.',\n",
       " '8.2.72   DANISH MV \"BODIL\" SUNK IN 553112N, 094142E [EUR]. UNTOUCHED OR CONDITION UNKNOWN. (DANISH WRECK RECORDS NO.531941) NCA, POSN FOR FILING ONLY.        3.10.02   NOT SHOWN ON DANISH 158 [INT 1376] [MAR \\'02 EDN, LARGEST SCALE ADOPTION]. AMENDED TO DEAD. NE 900.',\n",
       " \"SINKING POSN GIVEN AS 25M SW OF CONNINGBEG LTV. (WW1SL).          H351/20            H351/20 INS ON BA CHARTS AS NDW IN 514000N, 065800W.                6.12.78      6.12.78 NOT SHOWN ON NC 2049 DUE TO AGE, SIZE & DEPTH OF WATER.                      SEE ALSO WK OF 'OUR BAIRNS' [11739] IN SAME POSN.          H1933/79      21.12.81      H1933/79 21.12.81 NOTHING FOUND DURING AREA SEARCH. (HMS FOX, HI 51/79). AMENDED TO DEAD. NCA.\",\n",
       " \"H1691/19   11.7.19   NDW PD IN 474448N, 042800W. (PARIS NM). BR STD.     H4737/63   19.12.63   NOT SHOWN ON FRENCH 6377. BR STD.        17.5.79   SHOWN AS NDW PD ON FRENCH CHART. NE 2351.        23.4.84   NDW PD IN 474452N, 042753W [EUR]. (FRENCH WK RECORDS 1984). NC 2351.        20.1.87   SHOWN AS WK USC PA 50MTRS ON FRENCH 6989. NC 2643.        24.5.88   SHOWN AS NDW PD ON FRENCH 7067 [1987 EDN]. NCA.     H1271/88   25.5.88   'HENRI LE COURT' IN 474452N, 042753W [EUR]. POSN ACCURACY 1M [=PA]. USC 50MTRS IN GEN DEPTH 70MTRS. (FRENCH WK RECORDS 1987, NO.14574036). BR STD.        9.2.89   SHOWN AS WK USC PD 50MTRS ON FRENCH 7146 & FRENCH 7147 [1988 EDNS]. NCA.        18.5.00   SHOWN AS WK USC PD 50MTRS ON FRENCH 7147 [1988 EDN] & FRENCH 7146 [1993 EDN]. NC 2819.        29.10.09   SHOWN IN 4744.804N, 0427.974W [WGD] ON FRENCH 7147 [2ND EDN 2008, 1:50,000, LARGEST SCALE ADOPTION]. NE 2819.\",\n",
       " '20.12.79   SUNK 6M W HALF S OF LIZARD. (LL WW1). NCA. POSN 495710N, 052120W FOR FILING ONLY.     HH091/059/01   1.4.05   NOT LOCATED, DISPROVED. (GARDLINE, HI 1059). AMEND DEAD. NCA.     SEP 2016/000091765   27.10.16   NOT LOCATED IN M/B SURVEY. (MMT, HI 1500). NFA.',\n",
       " \"31.10.78   WRECKED AT RUSSEELVA, NORDLENANGEN. (LLOYDS VOL.234) NCA, POSN 695642N, 201330E FOR FILING ONLY.        5.5.07   NOT SHOWN ON NORWEGIAN 91 [REPRINT OCT '02]. AMENDED TO DEAD. NE 2367 [AREA BLUED OUT].\",\n",
       " 'H3334/86   1.12.87   SANK IN APPROX POSN 242000N, 361000E. (LL 10.11.87). IN 990MTRS. NCA.     H3334/86   31.12.87   SANK IN POSN 242312N, 361200E ON 7.11.87. (LL 9.12.87).     SEP 2013/000036449    21.2.13   NDW IN 2423.1N, 3612.0E [WGD]. (FRENCH NM 7/163/13). AMEND POSN. NCA.',\n",
       " 'H1094/18   22.2.18   SINKING POSN GIVEN AS 543600N, 003000W. (SNO BLYTHE, TELECO). NCA.     H2473/22   27.4.22   S TRAWLER LYNMOUTH TRAWLING 25 MILES E 0.5 S FROM HARTLEPOOL FOULED AN OBSTN IN 543600N, 003000W AND FOUND TWO ALUMINIUM OR ZINC SHEETS (ONE A HINGED DOOR) IN TRAWL ON RECOVERING IT. COULD HAVE BEEN PARTS OF AN AEROPLANE OR AIRSHIP, MOST OF WHICH REMAINED ON SEABED. (WEEKLY INTELLIGENCE SUMMARY NO. 16.7.4.22). INS AS OBSOLETE WK SYMBOL (1922)(PA). BR STD.     H3752/26   11.6.26   AMEND TO NDW (1918)(PA). BR STD.     H4593/59   9.11.59   AMEND NDWPA. NC 1200.        3.4.74   AMEND WK USCPA 28MTRS. NC 134.     H6331/87/2   13.2.89   NO INDICATION OF WRECKAGE FOUND. (LAND & MARINE, HI 414B). DELETE. BR STD.',\n",
       " '30.4.73   VESSEL REPORTED AGROUND IN 332000S, 601500W, NEAR KM 350, RIVER PARANA. (LL VOL.212). NCA, PLOTS ON LAND, POSN FOR FILING ONLY.        11.10.10   VESSEL REFLOATED 30.4.73. (LL VOL.212). AMENDED TO LIFT.']"
      ]
     },
     "execution_count": 14,
     "metadata": {},
     "output_type": "execute_result"
    }
   ],
   "source": [
    "df.filter(pl.col(\"surveying_details\").is_not_null()).select(\"surveying_details\").sample(10).to_series().to_list()"
   ]
  },
  {
   "cell_type": "code",
   "execution_count": 15,
   "id": "2f1d9edc",
   "metadata": {},
   "outputs": [
    {
     "data": {
      "text/plain": [
       "['ONE BOILER, TRIPLE EXPANSION ENGINE, SINGLE SHAFT. PASSAGE PLYMOUTH FOR FISHING AND RETURN. WENT ASHORE IN FOG, FELL ONTO SIDE AS TIDE FELL AND COULD NOT BE RIGHTED. (SIBI).',\n",
       " 'BUILT IN 1921 BY ARMSTRONG WHITWORTH & CO LTD, NEWCASTLE-UPON-TYNE. OWNED AT TIME OF LOSS BY LOBITOS OIL FIELDS LTD. THREE BOILERS, TRIPLE EXPANSION ENGINE OF 678NHP, SINGLE SHAFT. PASSAGE LOBITOS AND HALIFAX FOR ELLSMERE PORTN. MINED. (WW2SL & SIBI).',\n",
       " 'BUILT OF WOOD IN 1913 BY F T EBERHARDT, GREENHYTHE. OWNED AT TIME OF LOSS BY F T EBERHARDT, LONDON. AUXILLARY 2 CYLINDER OIL ENGINE, SINGLE SHAFT. PASSAGE LE HAVRE FOR LONDON. STOPPED AFTER GUNFIRE FROM A GERMAN SUBMARINE WHICH WAS UNABLE TO BOARD DUE TO HEAVY SEAS. ABANDONED ON FIRE FOR AND AFT AFTER BEING STRUCK BY 16 SHELLS AND LEFT TO FOUNDER. SUBMARINE MADE OFF TO ATTACK A SECOND BARGE, PRINCESS MAY. CREW RECOVERED BY NAVAL PATROL VESSEL AND LANDED AT NEWHAVEN. (SIBI).',\n",
       " \"EX-AMAYA, EX-JULIO. BUILT IN 1888 BY W DOXFORD & SONS, SUNDERLAND. OWNED AT TIME OF LOS BY CIA NAV GASCUNA. THREE BOILERS, TRIPLE EXPANSION ENGINE OF 176 NHP, SINGLE SHAFT. MACHINERY BY THE BUILDERS. PASSAGE AYR FOR BAYONNE. STOPPED WHEN CONDENSER PIPES FRACTURED AND ALLOWED WATER TO ENTER THE ENGINE ROOM. SS BRITISH CHANCELLOR MADE FOUR ATTEMPTS TO TAKE HER IN TOW BUT THE HAWSER PARTED ON EACH OCCASION, VILLASANDINO'S WINDLASS WAS BROKEN AND BOLLARDS TORN AWAY. CREW RECOVERED AND VESSEL WENT ASHORE. (SIBI & CORNISH SHIPWRECKS).\",\n",
       " \"EX-GOODWOOD '36. BUILT IN 1928 BY J READHEAD & SON, SOUTH SHIELDS. OWNED AT TIME OF LOSS BY DRAKE SHIPPING CO LTD. THREE BOILERS, TRIPLE EXPANSION ENGINE OF 423NHP, SINGLE SHAFT. PASSAGE ST JOHNS, NB, FOR HULL. CARGO STEEL AND WOOD. WAS INVOLVED IN COLLISION WITH USS WILLIAM B TRAVIS. AFTER HOLDS AND ENGINE AND BOILER ROOMS FLOODED. TAKEN IN TOW BUT SANK S OF PORTLAND BILL. SALVAGE OPERATIONS UNDERTAKEN BY RISDON BEASLEY IN 1960. (SIBI).\",\n",
       " 'REPORTED TAKING IN WATER. WAS ABANDONED BY CREW AND SANK. LATER ALLEGED TO HAVE BEEN SCUTTLED DELIBERATELY AS PART OF INSURANCE FRAUD.',\n",
       " 'BUILT 1883 BY A LESLIE & CO. OWNED AT THE TIME OF LOSS BY CIA COMERCIO E NAVEGACAO. TORPEDOED AND SUNK BY GERMAN SUBMARINE OFF USHANT.  (DODS).',\n",
       " \"BUILT IN 1932 BY CAMMELL LAIRD & CO AS A GREAT WESTERN RAILWAY PACKET. OWNED AT TIME OF LOSS BY FISHGUARD & ROSSLARE RAILWAYS & HARBOURS CO. WAS TAKEN OVER FOR SERVICE AS A HOSPITAL SHIP DURING THE SECOND WORLD WAR. ON JANUARY 24TH, 1944 WHEN 25M SW OF THE ANZIO BEACHHEAD, THE 'ST. DAVID' WAS BOMBED AND SUNK BY GERMAN AIRCRAFT. OF CREW OF 75, 78 PATIENTS & 63 HOSPITAL STAFF ON BOARD, 13 CREW, 22 R.A.M.C & 22 PATIENTS KILLED. (DODS, BVLAS 1939-45).\",\n",
       " 'BUILT IN 1852 AT NEWHAVEN, CONN, USA. OWNED AT TIME OF LOSS BY S E PIM, WICKLOW. PASSAGE GARSTON FOR WICKLOW. SANK AFTER COLLISION WITH SS KERRY. 1 LIFE LOST. (SIBI).',\n",
       " 'SANK WHEN IN COLLISION WITH DANDY ESMERALDA. (GRIMSBY LOSS LIST).']"
      ]
     },
     "execution_count": 15,
     "metadata": {},
     "output_type": "execute_result"
    }
   ],
   "source": [
    "df.filter(pl.col(\"circumstances_of_loss\").is_not_null()).select(\"circumstances_of_loss\").sample(10).to_series().to_list()"
   ]
  },
  {
   "cell_type": "code",
   "execution_count": 16,
   "id": "c1c64751",
   "metadata": {},
   "outputs": [],
   "source": [
    "df = df[[\"circumstances_of_loss\",\"surveying_details\",\"general_comments\",\"original_detection_year\",\"date_sunk_year\",\"water_depth\",\"latitude\",\"longitude\"]]"
   ]
  },
  {
   "cell_type": "markdown",
   "id": "74726678",
   "metadata": {},
   "source": [
    "### Filter wrecks in north sea"
   ]
  },
  {
   "cell_type": "code",
   "execution_count": 17,
   "id": "182ce116",
   "metadata": {},
   "outputs": [
    {
     "name": "stdout",
     "output_type": "stream",
     "text": [
      "Total records: 21144\n",
      "Records inside IHO S-88 polygon: 5020\n"
     ]
    }
   ],
   "source": [
    "import json\n",
    "\n",
    "with open('data/iho88.json', 'r') as f:\n",
    "    iho88_data = json.load(f)\n",
    "\n",
    "coords = iho88_data['features'][0]['geometry']['coordinates'][0][0]\n",
    "\n",
    "polygon = Polygon(coords)\n",
    "\n",
    "\n",
    "# degrees minutes direction to signed decimal degree\n",
    "def parse_coord(coord_str):\n",
    "    if coord_str is None:\n",
    "        return None\n",
    "    parts = coord_str.strip().split()\n",
    "    if len(parts) != 3:\n",
    "        return None\n",
    "    \n",
    "    degrees = float(parts[0])\n",
    "    minutes = float(parts[1])\n",
    "    direction = parts[2].upper()\n",
    "    \n",
    "    decimal = degrees + minutes / 60\n",
    "    if direction in ['S', 'W']:\n",
    "        decimal = -decimal\n",
    "    \n",
    "    return decimal\n",
    "\n",
    "df_with_coords = df.with_columns([\n",
    "    pl.col(\"latitude\").map_elements(parse_coord, return_dtype=pl.Float64).alias(\"latitude\"),\n",
    "    pl.col(\"longitude\").map_elements(parse_coord, return_dtype=pl.Float64).alias(\"longitude\")\n",
    "])\n",
    "\n",
    "df_inside = (\n",
    "    df_with_coords\n",
    "    .with_columns(\n",
    "        pl.struct([\"longitude\", \"latitude\"])\n",
    "          .map_elements(lambda row: polygon.contains(Point(row[\"longitude\"], row[\"latitude\"])), return_dtype=pl.Boolean)\n",
    "          .alias(\"inside\")\n",
    "    )\n",
    "    .filter(pl.col(\"inside\"))\n",
    "    .drop(\"inside\")\n",
    ")\n",
    "\n",
    "print(f\"Total records: {len(df)}\")\n",
    "print(f\"Records inside IHO S-88 polygon: {len(df_inside)}\")\n",
    "\n",
    "df_f = df_inside.clone()"
   ]
  },
  {
   "cell_type": "markdown",
   "id": "a0fa5d48",
   "metadata": {},
   "source": [
    "### Some Exploration"
   ]
  },
  {
   "cell_type": "code",
   "execution_count": 18,
   "id": "c9e400d2",
   "metadata": {},
   "outputs": [
    {
     "data": {
      "image/png": "[encoded data removed]",
      "text/plain": [
       "<Figure size 640x480 with 1 Axes>"
      ]
     },
     "metadata": {},
     "output_type": "display_data"
    }
   ],
   "source": [
    "plt.hist(df_f['water_depth'], bins=100)\n",
    "plt.show()"
   ]
  },
  {
   "cell_type": "code",
   "execution_count": 19,
   "id": "a565af75",
   "metadata": {},
   "outputs": [
    {
     "data": {
      "image/png": "[encoded data removed]",
      "text/plain": [
       "<Figure size 640x480 with 1 Axes>"
      ]
     },
     "metadata": {},
     "output_type": "display_data"
    }
   ],
   "source": [
    "plt.hist(df_f['date_sunk_year'], bins=100)\n",
    "plt.show()"
   ]
  },
  {
   "cell_type": "code",
   "execution_count": 20,
   "id": "63aef98c",
   "metadata": {},
   "outputs": [
    {
     "data": {
      "image/png": "[encoded data removed]",
      "text/plain": [
       "<Figure size 640x480 with 1 Axes>"
      ]
     },
     "metadata": {},
     "output_type": "display_data"
    }
   ],
   "source": [
    "plt.hist(df_f['original_detection_year'], bins=100)\n",
    "plt.show()"
   ]
  },
  {
   "cell_type": "markdown",
   "id": "016b2b19",
   "metadata": {},
   "source": [
    "### Text Exploration"
   ]
  },
  {
   "cell_type": "code",
   "execution_count": 21,
   "id": "7665f7f4",
   "metadata": {},
   "outputs": [
    {
     "data": {
      "text/html": [
       "<div><style>\n",
       ".dataframe > thead > tr,\n",
       ".dataframe > tbody > tr {\n",
       "  text-align: right;\n",
       "  white-space: pre-wrap;\n",
       "}\n",
       "</style>\n",
       "<small>shape: (1_718, 8)</small><table border=\"1\" class=\"dataframe\"><thead><tr><th>circumstances_of_loss</th><th>surveying_details</th><th>general_comments</th><th>original_detection_year</th><th>date_sunk_year</th><th>water_depth</th><th>latitude</th><th>longitude</th></tr><tr><td>str</td><td>str</td><td>str</td><td>i64</td><td>i64</td><td>f64</td><td>str</td><td>str</td></tr></thead><tbody><tr><td>&quot;SANK AFTER COLLISION WITH LOCA…</td><td>&quot;HH550/404/06&nbsp;&nbsp;&nbsp;26.3.98&nbsp;&nbsp;&nbsp;UNCHA…</td><td>null</td><td>1998</td><td>1998</td><td>2.4384</td><td>&quot;22 17.453 N&quot;</td><td>&quot;114 8.432 E&quot;</td></tr><tr><td>&quot;10.2.88&nbsp;&nbsp;&nbsp;VESSEL CAPSIZED AND …</td><td>&quot;H2868/85&nbsp;&nbsp;&nbsp;1.3.88&nbsp;&nbsp;&nbsp;SANK AT KA…</td><td>null</td><td>1988</td><td>1988</td><td>6.4008</td><td>&quot;22 20 N&quot;</td><td>&quot;114 4 E&quot;</td></tr><tr><td>&quot;SANK AFTER COLLISION WITH M GE…</td><td>&quot;HH548/436/04&nbsp;&nbsp;&nbsp;19.3.99&nbsp;&nbsp;&nbsp;SANK …</td><td>null</td><td>1999</td><td>1999</td><td>8.2296</td><td>&quot;22 15.872 N&quot;</td><td>&quot;114 26.71 E&quot;</td></tr><tr><td>&quot;VESSEL, SANK FOLLOWING A COLLI…</td><td>&quot;HH548/350/01&nbsp;&nbsp;&nbsp;20.12.89&nbsp;&nbsp;&nbsp;SANK…</td><td>null</td><td>1989</td><td>1989</td><td>3.6576</td><td>&quot;22 16.16 N&quot;</td><td>&quot;114 16.15 E&quot;</td></tr><tr><td>&quot;SANK AFTER COLLISION WITH M TA…</td><td>&quot;HH550/412/02&nbsp;&nbsp;&nbsp;7.1.99&nbsp;&nbsp;&nbsp;SANK I…</td><td>null</td><td>1998</td><td>1998</td><td>7.3152</td><td>&quot;22 9.108 N&quot;</td><td>&quot;114 12.5 E&quot;</td></tr><tr><td>&hellip;</td><td>&hellip;</td><td>&hellip;</td><td>&hellip;</td><td>&hellip;</td><td>&hellip;</td><td>&hellip;</td><td>&hellip;</td></tr><tr><td>&quot;VESSEL, BUILT 1951 BY N.V. KON…</td><td>&quot;H6779/51&nbsp;&nbsp;&nbsp;20.11.51&nbsp;&nbsp;&nbsp;DANGEROU…</td><td>null</td><td>1951</td><td>1951</td><td>5.1816</td><td>&quot;53 54.758 N&quot;</td><td>&quot;7 52.274 E&quot;</td></tr><tr><td>&quot;BUILT 1924 BY NEW WATERWAY S.B…</td><td>&quot;H7143/53&nbsp;&nbsp;&nbsp;21.12.53&nbsp;&nbsp;&nbsp;DW MASTS…</td><td>null</td><td>1953</td><td>1953</td><td>4.2672</td><td>&quot;53 52.508 N&quot;</td><td>&quot;7 55.041 E&quot;</td></tr><tr><td>&quot;SANK FOLLOWING COLLISION WITH …</td><td>&quot;H1271/71&nbsp;&nbsp;&nbsp;28.10.71&nbsp;&nbsp;&nbsp;SUNK ABO…</td><td>null</td><td>1971</td><td>1971</td><td>3.6576</td><td>&quot;53 56.043 N&quot;</td><td>&quot;8 40.537 E&quot;</td></tr><tr><td>&quot;27.11.58&nbsp;&nbsp;&nbsp;SANK FOLLOWING A CO…</td><td>&quot;H8570/58&nbsp;&nbsp;&nbsp;13.4.59&nbsp;&nbsp;&nbsp;DW IN 535…</td><td>null</td><td>1958</td><td>1958</td><td>3.9624</td><td>&quot;53 59.808 N&quot;</td><td>&quot;8 21.875 E&quot;</td></tr><tr><td>&quot;SANK FOLLOWING A COLLISION WIT…</td><td>&quot;HH548/448/01&nbsp;&nbsp;&nbsp;4.12.92&nbsp;&nbsp;&nbsp;SURVI…</td><td>null</td><td>1992</td><td>1992</td><td>10.668</td><td>&quot;22 9.05 N&quot;</td><td>&quot;114 34.11 E&quot;</td></tr></tbody></table></div>"
      ],
      "text/plain": [
       "shape: (1_718, 8)\n",
       "┌────────────┬────────────┬────────────┬───────────┬───────────┬───────────┬───────────┬───────────┐\n",
       "│ circumstan ┆ surveying_ ┆ general_co ┆ original_ ┆ date_sunk ┆ water_dep ┆ latitude  ┆ longitude │\n",
       "│ ces_of_los ┆ details    ┆ mments     ┆ detection ┆ _year     ┆ th        ┆ ---       ┆ ---       │\n",
       "│ s          ┆ ---        ┆ ---        ┆ _year     ┆ ---       ┆ ---       ┆ str       ┆ str       │\n",
       "│ ---        ┆ str        ┆ str        ┆ ---       ┆ i64       ┆ f64       ┆           ┆           │\n",
       "│ str        ┆            ┆            ┆ i64       ┆           ┆           ┆           ┆           │\n",
       "╞════════════╪════════════╪════════════╪═══════════╪═══════════╪═══════════╪═══════════╪═══════════╡\n",
       "│ SANK AFTER ┆ HH550/404/ ┆ null       ┆ 1998      ┆ 1998      ┆ 2.4384    ┆ 22 17.453 ┆ 114 8.432 │\n",
       "│ COLLISION  ┆ 06         ┆            ┆           ┆           ┆           ┆ N         ┆ E         │\n",
       "│ WITH LOCA… ┆ 26.3.98    ┆            ┆           ┆           ┆           ┆           ┆           │\n",
       "│            ┆ UNCHA…     ┆            ┆           ┆           ┆           ┆           ┆           │\n",
       "│ 10.2.88    ┆ H2868/85   ┆ null       ┆ 1988      ┆ 1988      ┆ 6.4008    ┆ 22 20 N   ┆ 114 4 E   │\n",
       "│ VESSEL     ┆ 1.3.88     ┆            ┆           ┆           ┆           ┆           ┆           │\n",
       "│ CAPSIZED   ┆ SANK AT    ┆            ┆           ┆           ┆           ┆           ┆           │\n",
       "│ AND …      ┆ KA…        ┆            ┆           ┆           ┆           ┆           ┆           │\n",
       "│ SANK AFTER ┆ HH548/436/ ┆ null       ┆ 1999      ┆ 1999      ┆ 8.2296    ┆ 22 15.872 ┆ 114 26.71 │\n",
       "│ COLLISION  ┆ 04         ┆            ┆           ┆           ┆           ┆ N         ┆ E         │\n",
       "│ WITH M GE… ┆ 19.3.99    ┆            ┆           ┆           ┆           ┆           ┆           │\n",
       "│            ┆ SANK …     ┆            ┆           ┆           ┆           ┆           ┆           │\n",
       "│ VESSEL,    ┆ HH548/350/ ┆ null       ┆ 1989      ┆ 1989      ┆ 3.6576    ┆ 22 16.16  ┆ 114 16.15 │\n",
       "│ SANK       ┆ 01         ┆            ┆           ┆           ┆           ┆ N         ┆ E         │\n",
       "│ FOLLOWING  ┆ 20.12.89   ┆            ┆           ┆           ┆           ┆           ┆           │\n",
       "│ A COLLI…   ┆ SANK…      ┆            ┆           ┆           ┆           ┆           ┆           │\n",
       "│ SANK AFTER ┆ HH550/412/ ┆ null       ┆ 1998      ┆ 1998      ┆ 7.3152    ┆ 22 9.108  ┆ 114 12.5  │\n",
       "│ COLLISION  ┆ 02         ┆            ┆           ┆           ┆           ┆ N         ┆ E         │\n",
       "│ WITH M TA… ┆ 7.1.99     ┆            ┆           ┆           ┆           ┆           ┆           │\n",
       "│            ┆ SANK I…    ┆            ┆           ┆           ┆           ┆           ┆           │\n",
       "│ …          ┆ …          ┆ …          ┆ …         ┆ …         ┆ …         ┆ …         ┆ …         │\n",
       "│ VESSEL,    ┆ H6779/51   ┆ null       ┆ 1951      ┆ 1951      ┆ 5.1816    ┆ 53 54.758 ┆ 7 52.274  │\n",
       "│ BUILT 1951 ┆ 20.11.51   ┆            ┆           ┆           ┆           ┆ N         ┆ E         │\n",
       "│ BY N.V.    ┆ DANGEROU…  ┆            ┆           ┆           ┆           ┆           ┆           │\n",
       "│ KON…       ┆            ┆            ┆           ┆           ┆           ┆           ┆           │\n",
       "│ BUILT 1924 ┆ H7143/53   ┆ null       ┆ 1953      ┆ 1953      ┆ 4.2672    ┆ 53 52.508 ┆ 7 55.041  │\n",
       "│ BY NEW     ┆ 21.12.53   ┆            ┆           ┆           ┆           ┆ N         ┆ E         │\n",
       "│ WATERWAY   ┆ DW MASTS…  ┆            ┆           ┆           ┆           ┆           ┆           │\n",
       "│ S.B…       ┆            ┆            ┆           ┆           ┆           ┆           ┆           │\n",
       "│ SANK       ┆ H1271/71   ┆ null       ┆ 1971      ┆ 1971      ┆ 3.6576    ┆ 53 56.043 ┆ 8 40.537  │\n",
       "│ FOLLOWING  ┆ 28.10.71   ┆            ┆           ┆           ┆           ┆ N         ┆ E         │\n",
       "│ COLLISION  ┆ SUNK ABO…  ┆            ┆           ┆           ┆           ┆           ┆           │\n",
       "│ WITH …     ┆            ┆            ┆           ┆           ┆           ┆           ┆           │\n",
       "│ 27.11.58   ┆ H8570/58   ┆ null       ┆ 1958      ┆ 1958      ┆ 3.9624    ┆ 53 59.808 ┆ 8 21.875  │\n",
       "│ SANK       ┆ 13.4.59    ┆            ┆           ┆           ┆           ┆ N         ┆ E         │\n",
       "│ FOLLOWING  ┆ DW IN 535… ┆            ┆           ┆           ┆           ┆           ┆           │\n",
       "│ A CO…      ┆            ┆            ┆           ┆           ┆           ┆           ┆           │\n",
       "│ SANK       ┆ HH548/448/ ┆ null       ┆ 1992      ┆ 1992      ┆ 10.668    ┆ 22 9.05 N ┆ 114 34.11 │\n",
       "│ FOLLOWING  ┆ 01         ┆            ┆           ┆           ┆           ┆           ┆ E         │\n",
       "│ A          ┆ 4.12.92    ┆            ┆           ┆           ┆           ┆           ┆           │\n",
       "│ COLLISION  ┆ SURVI…     ┆            ┆           ┆           ┆           ┆           ┆           │\n",
       "│ WIT…       ┆            ┆            ┆           ┆           ┆           ┆           ┆           │\n",
       "└────────────┴────────────┴────────────┴───────────┴───────────┴───────────┴───────────┴───────────┘"
      ]
     },
     "execution_count": 21,
     "metadata": {},
     "output_type": "execute_result"
    }
   ],
   "source": [
    "df.filter(pl.col(\"circumstances_of_loss\").str.to_lowercase().str.contains(\"collision\"))"
   ]
  },
  {
   "cell_type": "code",
   "execution_count": 22,
   "id": "aef83e76",
   "metadata": {},
   "outputs": [
    {
     "data": {
      "text/html": [
       "<div><style>\n",
       ".dataframe > thead > tr,\n",
       ".dataframe > tbody > tr {\n",
       "  text-align: right;\n",
       "  white-space: pre-wrap;\n",
       "}\n",
       "</style>\n",
       "<small>shape: (83, 8)</small><table border=\"1\" class=\"dataframe\"><thead><tr><th>circumstances_of_loss</th><th>surveying_details</th><th>general_comments</th><th>original_detection_year</th><th>date_sunk_year</th><th>water_depth</th><th>latitude</th><th>longitude</th></tr><tr><td>str</td><td>str</td><td>str</td><td>i64</td><td>i64</td><td>f64</td><td>str</td><td>str</td></tr></thead><tbody><tr><td>&quot;VESSEL REPORTED LEAKAGE WHILST…</td><td>&quot;4.11.71&nbsp;&nbsp;&nbsp;BEACHED WITH 25DEG L…</td><td>null</td><td>1971</td><td>1971</td><td>0.0</td><td>&quot;22 18 N&quot;</td><td>&quot;114 16 E&quot;</td></tr><tr><td>&quot;18.2.93&nbsp;&nbsp;&nbsp;SANK FOLLOWING LEAKA…</td><td>&quot;HH583/420/01&nbsp;&nbsp;&nbsp;3.3.93&nbsp;&nbsp;&nbsp;SANK I…</td><td>null</td><td>1993</td><td>1993</td><td>545.591983</td><td>&quot;8 33 S&quot;</td><td>&quot;158 47 E&quot;</td></tr><tr><td>&quot;BUILT IN 1971 BY KURUSHIMA DOC…</td><td>&quot;H3449/80&nbsp;&nbsp;&nbsp;23.8.84&nbsp;&nbsp;&nbsp;SANK IN 2…</td><td>null</td><td>1984</td><td>1984</td><td>3.6576</td><td>&quot;18 50.683 N&quot;</td><td>&quot;72 45.243 E&quot;</td></tr><tr><td>&quot;BUILT IN 1960 BY N.V.KON. MAAT…</td><td>&quot;15.6.80&nbsp;&nbsp;&nbsp;SANK IN 44FT IN 1.3M…</td><td>null</td><td>1980</td><td>1980</td><td>3.6576</td><td>&quot;18 49.467 N&quot;</td><td>&quot;72 43.227 E&quot;</td></tr><tr><td>&quot;BUILT IN 1957 BY SANOYASU DOCK…</td><td>&quot;18.5.76&nbsp;&nbsp;&nbsp;VESSEL BEACHED IN E …</td><td>null</td><td>1976</td><td>1976</td><td>0.9144</td><td>&quot;18 45.15 N&quot;</td><td>&quot;72 50.06 E&quot;</td></tr><tr><td>&hellip;</td><td>&hellip;</td><td>&hellip;</td><td>&hellip;</td><td>&hellip;</td><td>&hellip;</td><td>&hellip;</td><td>&hellip;</td></tr><tr><td>&quot;3.9.99&nbsp;&nbsp;&nbsp;HAD WATER LEAKAGE IN …</td><td>&quot;14.9.99&nbsp;&nbsp;&nbsp;GROUNDED ON SUBMERGE…</td><td>null</td><td>1999</td><td>1999</td><td>2.1336</td><td>&quot;22 10.05 N&quot;</td><td>&quot;91 39.82 E&quot;</td></tr><tr><td>&quot;SANK DUE TO LEAKAGE IN KEEL AN…</td><td>&quot;HH527/680/02&nbsp;&nbsp;&nbsp;9.11.93&nbsp;&nbsp;&nbsp;REPD …</td><td>&quot;Rep (1994)&quot;</td><td>1993</td><td>1993</td><td>3.3528</td><td>&quot;0 58.676 S&quot;</td><td>&quot;117 21.107 E&quot;</td></tr><tr><td>&quot;SANK AFTER LEAKAGE INTO NO 4 H…</td><td>&quot;HH371/460/02&nbsp;&nbsp;&nbsp;23.12.98&nbsp;&nbsp;&nbsp;SINK…</td><td>null</td><td>1998</td><td>1998</td><td>281.939991</td><td>&quot;36 51.824 N&quot;</td><td>&quot;13 15.101 E&quot;</td></tr><tr><td>&quot;VESSEL DEVELOPED A LEAKAGE, WA…</td><td>&quot;31.5.73&nbsp;&nbsp;&nbsp;GROUNDED AND SANK NE…</td><td>null</td><td>1973</td><td>1973</td><td>1.524</td><td>&quot;58 0 N&quot;</td><td>&quot;7 0 E&quot;</td></tr><tr><td>&quot;13.12.00&nbsp;&nbsp;&nbsp;EX-AENEAS &#x27;00, EX-A…</td><td>&quot;17.1.01&nbsp;&nbsp;&nbsp;SANK OFF KUALA BESUT…</td><td>null</td><td>2000</td><td>2000</td><td>4.572</td><td>&quot;5 53.09 N&quot;</td><td>&quot;102 38.05 E&quot;</td></tr></tbody></table></div>"
      ],
      "text/plain": [
       "shape: (83, 8)\n",
       "┌────────────┬────────────┬────────────┬───────────┬───────────┬───────────┬───────────┬───────────┐\n",
       "│ circumstan ┆ surveying_ ┆ general_co ┆ original_ ┆ date_sunk ┆ water_dep ┆ latitude  ┆ longitude │\n",
       "│ ces_of_los ┆ details    ┆ mments     ┆ detection ┆ _year     ┆ th        ┆ ---       ┆ ---       │\n",
       "│ s          ┆ ---        ┆ ---        ┆ _year     ┆ ---       ┆ ---       ┆ str       ┆ str       │\n",
       "│ ---        ┆ str        ┆ str        ┆ ---       ┆ i64       ┆ f64       ┆           ┆           │\n",
       "│ str        ┆            ┆            ┆ i64       ┆           ┆           ┆           ┆           │\n",
       "╞════════════╪════════════╪════════════╪═══════════╪═══════════╪═══════════╪═══════════╪═══════════╡\n",
       "│ VESSEL     ┆ 4.11.71    ┆ null       ┆ 1971      ┆ 1971      ┆ 0.0       ┆ 22 18 N   ┆ 114 16 E  │\n",
       "│ REPORTED   ┆ BEACHED    ┆            ┆           ┆           ┆           ┆           ┆           │\n",
       "│ LEAKAGE    ┆ WITH 25DEG ┆            ┆           ┆           ┆           ┆           ┆           │\n",
       "│ WHILST…    ┆ L…         ┆            ┆           ┆           ┆           ┆           ┆           │\n",
       "│ 18.2.93    ┆ HH583/420/ ┆ null       ┆ 1993      ┆ 1993      ┆ 545.59198 ┆ 8 33 S    ┆ 158 47 E  │\n",
       "│ SANK       ┆ 01         ┆            ┆           ┆           ┆ 3         ┆           ┆           │\n",
       "│ FOLLOWING  ┆ 3.3.93     ┆            ┆           ┆           ┆           ┆           ┆           │\n",
       "│ LEAKA…     ┆ SANK I…    ┆            ┆           ┆           ┆           ┆           ┆           │\n",
       "│ BUILT IN   ┆ H3449/80   ┆ null       ┆ 1984      ┆ 1984      ┆ 3.6576    ┆ 18 50.683 ┆ 72 45.243 │\n",
       "│ 1971 BY    ┆ 23.8.84    ┆            ┆           ┆           ┆           ┆ N         ┆ E         │\n",
       "│ KURUSHIMA  ┆ SANK IN 2… ┆            ┆           ┆           ┆           ┆           ┆           │\n",
       "│ DOC…       ┆            ┆            ┆           ┆           ┆           ┆           ┆           │\n",
       "│ BUILT IN   ┆ 15.6.80    ┆ null       ┆ 1980      ┆ 1980      ┆ 3.6576    ┆ 18 49.467 ┆ 72 43.227 │\n",
       "│ 1960 BY    ┆ SANK IN    ┆            ┆           ┆           ┆           ┆ N         ┆ E         │\n",
       "│ N.V.KON.   ┆ 44FT IN    ┆            ┆           ┆           ┆           ┆           ┆           │\n",
       "│ MAAT…      ┆ 1.3M…      ┆            ┆           ┆           ┆           ┆           ┆           │\n",
       "│ BUILT IN   ┆ 18.5.76    ┆ null       ┆ 1976      ┆ 1976      ┆ 0.9144    ┆ 18 45.15  ┆ 72 50.06  │\n",
       "│ 1957 BY    ┆ VESSEL     ┆            ┆           ┆           ┆           ┆ N         ┆ E         │\n",
       "│ SANOYASU   ┆ BEACHED IN ┆            ┆           ┆           ┆           ┆           ┆           │\n",
       "│ DOCK…      ┆ E …        ┆            ┆           ┆           ┆           ┆           ┆           │\n",
       "│ …          ┆ …          ┆ …          ┆ …         ┆ …         ┆ …         ┆ …         ┆ …         │\n",
       "│ 3.9.99     ┆ 14.9.99    ┆ null       ┆ 1999      ┆ 1999      ┆ 2.1336    ┆ 22 10.05  ┆ 91 39.82  │\n",
       "│ HAD WATER  ┆ GROUNDED   ┆            ┆           ┆           ┆           ┆ N         ┆ E         │\n",
       "│ LEAKAGE IN ┆ ON         ┆            ┆           ┆           ┆           ┆           ┆           │\n",
       "│ …          ┆ SUBMERGE…  ┆            ┆           ┆           ┆           ┆           ┆           │\n",
       "│ SANK DUE   ┆ HH527/680/ ┆ Rep (1994) ┆ 1993      ┆ 1993      ┆ 3.3528    ┆ 0 58.676  ┆ 117       │\n",
       "│ TO LEAKAGE ┆ 02         ┆            ┆           ┆           ┆           ┆ S         ┆ 21.107 E  │\n",
       "│ IN KEEL    ┆ 9.11.93    ┆            ┆           ┆           ┆           ┆           ┆           │\n",
       "│ AN…        ┆ REPD …     ┆            ┆           ┆           ┆           ┆           ┆           │\n",
       "│ SANK AFTER ┆ HH371/460/ ┆ null       ┆ 1998      ┆ 1998      ┆ 281.93999 ┆ 36 51.824 ┆ 13 15.101 │\n",
       "│ LEAKAGE    ┆ 02         ┆            ┆           ┆           ┆ 1         ┆ N         ┆ E         │\n",
       "│ INTO NO 4  ┆ 23.12.98   ┆            ┆           ┆           ┆           ┆           ┆           │\n",
       "│ H…         ┆ SINK…      ┆            ┆           ┆           ┆           ┆           ┆           │\n",
       "│ VESSEL     ┆ 31.5.73    ┆ null       ┆ 1973      ┆ 1973      ┆ 1.524     ┆ 58 0 N    ┆ 7 0 E     │\n",
       "│ DEVELOPED  ┆ GROUNDED   ┆            ┆           ┆           ┆           ┆           ┆           │\n",
       "│ A LEAKAGE, ┆ AND SANK   ┆            ┆           ┆           ┆           ┆           ┆           │\n",
       "│ WA…        ┆ NE…        ┆            ┆           ┆           ┆           ┆           ┆           │\n",
       "│ 13.12.00   ┆ 17.1.01    ┆ null       ┆ 2000      ┆ 2000      ┆ 4.572     ┆ 5 53.09 N ┆ 102 38.05 │\n",
       "│ EX-AENEAS  ┆ SANK OFF   ┆            ┆           ┆           ┆           ┆           ┆ E         │\n",
       "│ '00, EX-A… ┆ KUALA      ┆            ┆           ┆           ┆           ┆           ┆           │\n",
       "│            ┆ BESUT…     ┆            ┆           ┆           ┆           ┆           ┆           │\n",
       "└────────────┴────────────┴────────────┴───────────┴───────────┴───────────┴───────────┴───────────┘"
      ]
     },
     "execution_count": 22,
     "metadata": {},
     "output_type": "execute_result"
    }
   ],
   "source": [
    "df.filter(pl.col(\"circumstances_of_loss\").str.to_lowercase().str.contains(\"leakage\"))"
   ]
  },
  {
   "cell_type": "code",
   "execution_count": 23,
   "id": "597cc9bd",
   "metadata": {},
   "outputs": [
    {
     "data": {
      "image/png": "[encoded data removed]",
      "text/plain": [
       "<Figure size 640x480 with 1 Axes>"
      ]
     },
     "metadata": {},
     "output_type": "display_data"
    }
   ],
   "source": [
    "plt.hist(df.filter(pl.col(\"circumstances_of_loss\").str.to_lowercase().str.contains(\"german submarine\"))['date_sunk_year'], bins=100)\n",
    "plt.show()"
   ]
  }
 ],
 "metadata": {
  "kernelspec": {
   "display_name": "wrack",
   "language": "python",
   "name": "python3"
  },
  "language_info": {
   "codemirror_mode": {
    "name": "ipython",
    "version": 3
   },
   "file_extension": ".py",
   "mimetype": "text/x-python",
   "name": "python",
   "nbconvert_exporter": "python",
   "pygments_lexer": "ipython3",
   "version": "3.12.7"
  }
 },
 "nbformat": 4,
 "nbformat_minor": 5
}
